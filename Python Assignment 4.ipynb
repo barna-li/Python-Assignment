{
 "cells": [
  {
   "cell_type": "markdown",
   "metadata": {},
   "source": [
    "## 1. What exactly is [] ?\n"
   ]
  },
  {
   "cell_type": "code",
   "execution_count": 1,
   "metadata": {},
   "outputs": [
    {
     "name": "stdout",
     "output_type": "stream",
     "text": [
      "<class 'list'>\n",
      "<class 'list'>\n",
      "green\n",
      "['grass', 'green', 7, 'word', 4.2]\n",
      "e\n",
      "Symbiosis\n"
     ]
    }
   ],
   "source": [
    "#This symbol[] denotes an empty list value as shown in Example1, & it can also contain strings, floats & integers seperated by commas 
     #as shown in Example2. \n",
    "\n",
    "#Example1\n",
    "l =[]\n",
    "print(type(l))\n",
    "\n",
    "#Example2\n",
    "l =[\"hello\",45.7,89]\n",
    "print(type(l))\n",
    "\n",
    "#It also represents an index operator [] to access item in a list using examples given below.\n",
    "\n",
    "#Used to retrieve single list element\n",
    "element =[\"grass\",\"green\",7,'hockey',4.2]\n",
    "print(element[1])\n",
    "\n",
    "#Used to overwrite the value of an element\n",
    "element[3:4] = [\"word\"]\n",
    "print(element)\n",
    "\n",
    "#Used to retrieve individual characters \n",
    "print(element[1][3])\n",
    "\n",
    "#Used to retrieve values of keys in a dictionary\n",
    "dictt = {\"home\":\"Siliguri\",\"age\":25,\"college\":\"Symbiosis\"}\n",
    "print(dictt[\"college\"])\n",
    "\n"
   ]
  },
  {
   "cell_type": "markdown",
   "metadata": {},
   "source": [
    "## 2. In a list of values stored in a variable called spam, how would you assign the value 'hello' as the third value? (Assume [2, 4, 6, 8, 10] are in spam.) "
   ]
  },
  {
   "cell_type": "code",
   "execution_count": 2,
   "metadata": {},
   "outputs": [
    {
     "name": "stdout",
     "output_type": "stream",
     "text": [
      "[2, 4, 'hello', 8, 10]\n"
     ]
    }
   ],
   "source": [
    "spam = [2,4,6,8,10]\n",
    "spam[2]=('hello')\n",
    "print(spam)"
   ]
  },
  {
   "cell_type": "markdown",
   "metadata": {},
   "source": [
    "## Let's pretend the spam includes the list ['a', 'b', 'c', 'd'] for the next three queries.\n",
    "\n",
    "## 3. What is the value of spam[int(int('3' * 2) / 11)]?\n"
   ]
  },
  {
   "cell_type": "code",
   "execution_count": 3,
   "metadata": {},
   "outputs": [
    {
     "data": {
      "text/plain": [
       "'d'"
      ]
     },
     "execution_count": 3,
     "metadata": {},
     "output_type": "execute_result"
    }
   ],
   "source": [
    "#As the number 3 in inside quotes it is taken as a string and the repititive list operator gives 2 copies herfore making it 33. Further 33/11 =3 so at index 3 we have 'd' so that is printed. \n",
    "\n",
    "spam =['a','b','c','d']\n",
    "spam[int(int('3'*2)/11)]\n"
   ]
  },
  {
   "cell_type": "markdown",
   "metadata": {},
   "source": [
    "## 4. What is the value of spam[-1]?\n"
   ]
  },
  {
   "cell_type": "code",
   "execution_count": 4,
   "metadata": {},
   "outputs": [
    {
     "data": {
      "text/plain": [
       "'d'"
      ]
     },
     "execution_count": 4,
     "metadata": {},
     "output_type": "execute_result"
    }
   ],
   "source": [
    "spam =['a','b','c','d']\n",
    "spam[-1]\n"
   ]
  },
  {
   "cell_type": "markdown",
   "metadata": {},
   "source": [
    "## 5. What is the value of spam[:2]?"
   ]
  },
  {
   "cell_type": "code",
   "execution_count": 5,
   "metadata": {},
   "outputs": [
    {
     "data": {
      "text/plain": [
       "'c'"
      ]
     },
     "execution_count": 5,
     "metadata": {},
     "output_type": "execute_result"
    }
   ],
   "source": [
    "spam =['a','b','c','d']\n",
    "spam[2]"
   ]
  },
  {
   "cell_type": "markdown",
   "metadata": {},
   "source": [
    "## Let's pretend bacon has the list [3.14, 'cat,' 11, 'cat,' True] for the next three questions.\n",
    "\n",
    "## 6. What is the value of bacon.index('cat')?\n"
   ]
  },
  {
   "cell_type": "code",
   "execution_count": 6,
   "metadata": {},
   "outputs": [
    {
     "data": {
      "text/plain": [
       "1"
      ]
     },
     "execution_count": 6,
     "metadata": {},
     "output_type": "execute_result"
    }
   ],
   "source": [
    "bacon = [3.14,'cat',11,'cat',True]\n",
    "bacon.index('cat')"
   ]
  },
  {
   "cell_type": "markdown",
   "metadata": {},
   "source": [
    "## 7. How does bacon.append(99) change the look of the list value in bacon?\n"
   ]
  },
  {
   "cell_type": "code",
   "execution_count": 7,
   "metadata": {},
   "outputs": [
    {
     "name": "stdout",
     "output_type": "stream",
     "text": [
      "[3.14, 'cat', 11, 'cat', True, 99]\n"
     ]
    }
   ],
   "source": [
    "# The append function adds the value to the end of the existing list so that list of size increases by 1.\n",
    "\n",
    "bacon = [3.14,'cat',11,'cat',True]\n",
    "bacon.append(99)\n",
    "\n",
    "print(bacon)"
   ]
  },
  {
   "cell_type": "markdown",
   "metadata": {},
   "source": [
    "## 8. How does bacon.remove('cat') change the look of the list in bacon?\n"
   ]
  },
  {
   "cell_type": "code",
   "execution_count": 8,
   "metadata": {},
   "outputs": [
    {
     "name": "stdout",
     "output_type": "stream",
     "text": [
      "[3.14, 11, 'cat', True]\n"
     ]
    }
   ],
   "source": [
    "#The remove function deletes the first occurence of the element within the specified value.\n",
    "bacon = [3.14,'cat',11,'cat',True]\n",
    "bacon.remove(\"cat\")\n",
    "\n",
    "print(bacon)"
   ]
  },
  {
   "cell_type": "markdown",
   "metadata": {},
   "source": [
    "## 9. What are List concatenation and list replication operators?"
   ]
  },
  {
   "cell_type": "code",
   "execution_count": 10,
   "metadata": {},
   "outputs": [
    {
     "name": "stdout",
     "output_type": "stream",
     "text": [
      "[4, 3, 6, 'f', 't', 'j']\n",
      "['bar', 'annie', 'bar', 'annie', 'bar', 'annie']\n"
     ]
    }
   ],
   "source": [
    "#A list concatenation operator is denoted by + , in which one list can be added to the other list and returned in a new list.\n",
    "a=[4,3,6]\n",
    "b=['f','t','j']\n",
    "c = a+b\n",
    "print(c)\n",
    "\n",
    "#Lists can be made using the repititon operator which is symbolised by * , for it can make multiple copies of a list and join them together.\n",
    "#Example:The list below has 2 elements and the repitive operator makes 3 copies of the list joining them together to form a single list.\n",
    "\n",
    "num =[\"bar\",\"annie\"]*3\n",
    "print(num)\n",
    "    \n",
    "\n"
   ]
  },
  {
   "cell_type": "markdown",
   "metadata": {},
   "source": [
    "## 10. Difference between list methods append & insert function?"
   ]
  },
  {
   "cell_type": "code",
   "execution_count": 11,
   "metadata": {},
   "outputs": [
    {
     "name": "stdout",
     "output_type": "stream",
     "text": [
      "[44, 67, 88, 'hat']\n",
      "[5, 7, 'correct', 8, 9]\n"
     ]
    }
   ],
   "source": [
    "#Append function add items to the end of the list\n",
    "g =[44,67,88]\n",
    "h =[\"hat\"]\n",
    "for i in h:\n",
    "    g.append(i)\n",
    "print(g)\n",
    "\n",
    "#Insert fuction which takes 2 arguments usually adds items specified through indexes anywhere in the list.\n",
    "jun = [5,7,8,9]\n",
    "jun.insert(2,'correct')\n",
    "print(jun)"
   ]
  },
  {
   "cell_type": "markdown",
   "metadata": {},
   "source": [
    "## 11.  Methods of removing items from a list?"
   ]
  },
  {
   "cell_type": "code",
   "execution_count": 12,
   "metadata": {},
   "outputs": [
    {
     "name": "stdout",
     "output_type": "stream",
     "text": [
      "[4, 6]\n",
      "[56, 99]\n",
      "['science']\n"
     ]
    }
   ],
   "source": [
    "\n",
    "#The pop function helps to remove an item by index.\n",
    "a = [4,5,6]\n",
    "a.pop(1)\n",
    "print(a)\n",
    "\n",
    "#the remove function removes an item by value.\n",
    "b = [56,36,99]\n",
    "b.remove(36)\n",
    "print(b)\n",
    "\n",
    "#the delete function removes an item by index or slicing.\n",
    "c = [\"art\",\"culture\",\"science\"]\n",
    "del c[0:2]\n",
    "print(c)"
   ]
  },
  {
   "cell_type": "markdown",
   "metadata": {},
   "source": [
    "## 12. Describe how list values and string values are identical?"
   ]
  },
  {
   "cell_type": "code",
   "execution_count": 15,
   "metadata": {
    "scrolled": true
   },
   "outputs": [
    {
     "name": "stdout",
     "output_type": "stream",
     "text": [
      "LIST: ['annie', 56.2, 99, 'goal']\n",
      "STRING: It is a\n"
     ]
    }
   ],
   "source": [
    "#Both values can be used for indexing and slicing.\n",
    "LIST = [\"sun\",\"goal\",99,56.2,\"annie\",\"day\",90]\n",
    "a=LIST[4:0:-1]\n",
    "print(\"LIST:\",a)\n",
    "\n",
    "\n",
    "STRING =\"It is a sunny day\"\n",
    "k = STRING[0:7]\n",
    "print(\"STRING:\",k)"
   ]
  },
  {
   "cell_type": "code",
   "execution_count": 16,
   "metadata": {},
   "outputs": [
    {
     "name": "stdout",
     "output_type": "stream",
     "text": [
      "LIST: ['sun', 'goal', 99, 56.2, 'annie', 'day', 90]\n",
      "STRING: I\n",
      "STRING: t\n",
      "STRING:  \n",
      "STRING: i\n",
      "STRING: s\n",
      "STRING:  \n",
      "STRING: a\n",
      "STRING:  \n",
      "STRING: s\n",
      "STRING: u\n",
      "STRING: n\n",
      "STRING: n\n",
      "STRING: y\n",
      "STRING:  \n",
      "STRING: d\n",
      "STRING: a\n",
      "STRING: y\n"
     ]
    }
   ],
   "source": [
    "#Both can be used in for loops.\n",
    "LISTT =[[\"sun\",\"goal\",99,56.2,\"annie\",\"day\",90]]\n",
    "for i in LISTT:\n",
    "    if type(i)==list:\n",
    "        print(\"LIST:\",i)\n",
    "\n",
    "STRING =\"It is a sunny day\"\n",
    "for i in STRING:\n",
    "    if type(i)==str:\n",
    "        print(\"STRING:\",i)\n",
    "        "
   ]
  },
  {
   "cell_type": "code",
   "execution_count": 17,
   "metadata": {},
   "outputs": [
    {
     "name": "stdout",
     "output_type": "stream",
     "text": [
      "LIST: [1, 3, 4, 5, 7, 8, 9, 10]\n",
      "STRING: Goods daysare coming\n"
     ]
    }
   ],
   "source": [
    "#Both can be concatenated.\n",
    "a = [1,3,4,5]\n",
    "b =[7,8,9,10]\n",
    "LISTT = a+b\n",
    "print(\"LIST:\",LISTT)\n",
    "\n",
    "\n",
    "a =\"Goods days\"\n",
    "b =\"are coming\"\n",
    "STRING= a+b\n",
    "print(\"STRING:\",STRING)\n"
   ]
  },
  {
   "cell_type": "code",
   "execution_count": 22,
   "metadata": {},
   "outputs": [
    {
     "name": "stdout",
     "output_type": "stream",
     "text": [
      "LIST: 4\n",
      "STRING: 12\n"
     ]
    }
   ],
   "source": [
    "#Both can be passed to a length function which gives the number of elements stored in the collection.\n",
    "a = [7,8,9,7]\n",
    "t =len(a)\n",
    "print(\"LIST:\",t)\n",
    "\n",
    "b =\"a gloomy day\"\n",
    "t= len(b)\n",
    "print(\"STRING:\",t)"
   ]
  },
  {
   "cell_type": "code",
   "execution_count": 23,
   "metadata": {},
   "outputs": [
    {
     "name": "stdout",
     "output_type": "stream",
     "text": [
      "True\n",
      "False\n",
      "True\n",
      "False\n"
     ]
    }
   ],
   "source": [
    "#Both can be used with the in & not in operators which gives a boolean response.\n",
    "\n",
    "LISTT = [6,7,3,2]\n",
    "print(6 in LISTT)\n",
    "print(6 not in LISTT)\n",
    "\n",
    "\n",
    "STRING =\"my name is bar\"\n",
    "print(\"my\" in STRING)\n",
    "print(\"my\"not in STRING)\n",
    "\n"
   ]
  },
  {
   "cell_type": "markdown",
   "metadata": {},
   "source": [
    "## 13. What is the difference between tuples and lists?\n"
   ]
  },
  {
   "cell_type": "markdown",
   "metadata": {},
   "source": [
    "Lists are denoted by [] square brackets. They are mutable objects which can be used to modify contents of the table through indexing and slicing.\n",
    "\n",
    "Tuples are denoted by ()parantheses brackets. The are immutable objects which cannot modify contents of the table or be a replacement to the other at any given point of time.\n",
    "\n",
    "    "
   ]
  },
  {
   "cell_type": "markdown",
   "metadata": {},
   "source": [
    "## 14. How do you type a tuple value that only contains an integer 42?"
   ]
  },
  {
   "cell_type": "code",
   "execution_count": 25,
   "metadata": {},
   "outputs": [
    {
     "name": "stdout",
     "output_type": "stream",
     "text": [
      "(42,)\n"
     ]
    },
    {
     "data": {
      "text/plain": [
       "tuple"
      ]
     },
     "execution_count": 25,
     "metadata": {},
     "output_type": "execute_result"
    }
   ],
   "source": [
    "t =(42,)\n",
    "print(t)\n",
    "type(t)"
   ]
  },
  {
   "cell_type": "markdown",
   "metadata": {},
   "source": [
    "## 15. How do you get a list value's tuple form? How do you get a tuple value's list form?\n"
   ]
  },
  {
   "cell_type": "code",
   "execution_count": 30,
   "metadata": {},
   "outputs": [
    {
     "name": "stdout",
     "output_type": "stream",
     "text": [
      "('The', 89, 'Goal')\n"
     ]
    }
   ],
   "source": [
    "#list value's tuple form\n",
    "\n",
    "g =[\"The\",89,\"Goal\"]\n",
    "i =tuple(g)\n",
    "print(i)\n"
   ]
  },
  {
   "cell_type": "code",
   "execution_count": 26,
   "metadata": {},
   "outputs": [
    {
     "name": "stdout",
     "output_type": "stream",
     "text": [
      "['bar', 'sch', 955]\n"
     ]
    }
   ],
   "source": [
    "#tuple value's list form\n",
    "g =('bar', 'sch', 955)\n",
    "i =list(g)\n",
    "print(i)\n"
   ]
  },
  {
   "cell_type": "markdown",
   "metadata": {},
   "source": [
    "## 16. Variables that contain lists values are not necessary list themselves. Instead what do they contain?\n",
    "\n"
   ]
  },
  {
   "cell_type": "markdown",
   "metadata": {},
   "source": [
    "In python we use the = operator which creates a new variable that contain references to list values which necessarily are not list themselves."
   ]
  },
  {
   "cell_type": "markdown",
   "metadata": {},
   "source": [
    "## 17. How do you distinguish between copy.copy() and copy.deepcopy()?"
   ]
  },
  {
   "cell_type": "code",
   "execution_count": 28,
   "metadata": {},
   "outputs": [
    {
     "name": "stdout",
     "output_type": "stream",
     "text": [
      "OLD LIST IS: [[1, 1], [2, 'GG'], [3, 3]]\n",
      "NEW LIST IS: [[1, 1], [2, 'GG'], [3, 3]]\n"
     ]
    }
   ],
   "source": [
    "# Here we can see that on using copy.copy() when we assign a new value to old list,it modifies both the old list and new list, as both the old & new list share the reference of same nested objects.\n",
    "\n",
    "import copy\n",
    "old_list =[[1,1,],[2,2],[3,3]]\n",
    "new_list = copy.copy(old_list)\n",
    "\n",
    "old_list[1][1]=\"GG\"\n",
    "\n",
    "print(\"OLD LIST IS:\" ,old_list)\n",
    "print(\"NEW LIST IS:\", new_list)"
   ]
  },
  {
   "cell_type": "code",
   "execution_count": 29,
   "metadata": {},
   "outputs": [
    {
     "name": "stdout",
     "output_type": "stream",
     "text": [
      "OLD LIST IS: [[1, 1], [2, 'GG'], [3, 3]]\n",
      "NEW LIST IS: [[1, 1], [2, 2], [3, 3]]\n"
     ]
    }
   ],
   "source": [
    "# Here we can see that on using copy.deepcopy() when we assign a new value to old list,it only modifies the old list, making old and new lists are independent.\n",
    "\n",
    "\n",
    "old_list =[[1,1,],[2,2],[3,3]]\n",
    "new_list = copy.deepcopy(old_list)\n",
    "\n",
    "old_list[1][1]=\"GG\"\n",
    "\n",
    "print(\"OLD LIST IS:\" ,old_list)\n",
    "print(\"NEW LIST IS:\", new_list)"
   ]
  }
 ],
 "metadata": {
  "kernelspec": {
   "display_name": "Python 3 (ipykernel)",
   "language": "python",
   "name": "python3"
  },
  "language_info": {
   "codemirror_mode": {
    "name": "ipython",
    "version": 3
   },
   "file_extension": ".py",
   "mimetype": "text/x-python",
   "name": "python",
   "nbconvert_exporter": "python",
   "pygments_lexer": "ipython3",
   "version": "3.9.7"
  }
 },
 "nbformat": 4,
 "nbformat_minor": 4
}
