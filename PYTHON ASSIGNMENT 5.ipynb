{
 "cells": [
  {
   "cell_type": "markdown",
   "metadata": {},
   "source": [
    "## 1. What does an empty dictionary's code look like?\n"
   ]
  },
  {
   "cell_type": "raw",
   "metadata": {},
   "source": [
    "A dictionary named bam which is set equal to{} meaning its empty.\n",
    "bam ={}"
   ]
  },
  {
   "cell_type": "markdown",
   "metadata": {},
   "source": [
    "## 2. What is the value of a dictionary value with the key 'foo' and the value 42?\n"
   ]
  },
  {
   "cell_type": "code",
   "execution_count": 1,
   "metadata": {},
   "outputs": [
    {
     "name": "stdout",
     "output_type": "stream",
     "text": [
      "42\n"
     ]
    }
   ],
   "source": [
    "d ={'foo':42}\n",
    "for v in d.values():\n",
    "    print(v)"
   ]
  },
  {
   "cell_type": "markdown",
   "metadata": {},
   "source": [
    "## 3. What is the most significant distinction between a dictionary and a list?\n"
   ]
  },
  {
   "cell_type": "raw",
   "metadata": {},
   "source": [
    "Dictionary is placed in {} brackets as key-value pair,seperated by colon.\n",
    "d= {\"name\":\"barna\",\"college\":\"Symbiosis\",\"age\":25}\n",
    "\n",
    "Lists is placed in [] brackets is a order of index values starting from 0.\n",
    "l=[\"dog\",78,\"right\"]"
   ]
  },
  {
   "cell_type": "markdown",
   "metadata": {},
   "source": [
    "## 4. What happens if you try to access spam['foo'] if spam is {'bar': 100}?"
   ]
  },
  {
   "cell_type": "raw",
   "metadata": {},
   "source": [
    "It gives KeyError as the original key value entered is'bar' and not 'foo'."
   ]
  },
  {
   "cell_type": "markdown",
   "metadata": {},
   "source": [
    "## 5. If a dictionary is stored in spam, what is the difference between the expressions 'cat' in spam and 'cat' in spam.keys()?\n"
   ]
  },
  {
   "cell_type": "raw",
   "metadata": {},
   "source": [
    "Their is no difference as both the methods check whether 'cat' exists as a key in dictionary. "
   ]
  },
  {
   "cell_type": "markdown",
   "metadata": {},
   "source": [
    "## 6. If a dictionary is stored in spam, what is the difference between the expressions 'cat' in spam and 'cat' in spam.values()?"
   ]
  },
  {
   "cell_type": "raw",
   "metadata": {},
   "source": [
    "\"cat\" in spam checks whether their is a cat key in dictionary while 'cat' in spam.values checks whether cat exists as a value in the dictionary."
   ]
  },
  {
   "cell_type": "markdown",
   "metadata": {},
   "source": [
    "## 7. What is a shortcut for the following code?\n",
    "\n",
    "## if 'color' not in spam:\n",
    "## spam['color'] = 'black'\n"
   ]
  },
  {
   "cell_type": "code",
   "execution_count": 2,
   "metadata": {},
   "outputs": [
    {
     "name": "stdout",
     "output_type": "stream",
     "text": [
      "black\n"
     ]
    }
   ],
   "source": [
    "# As the key color was not present in the original dictionary named spam we entered it via set.default which inturn returned value of the item of the specified key.\n",
    "\n",
    "spam ={'brand':\"ford\",\"model\":\"Mustang\"}\n",
    "x = spam.setdefault('color','black')\n",
    "print(x)"
   ]
  },
  {
   "cell_type": "markdown",
   "metadata": {},
   "source": [
    "## 8. How do you \"pretty print\" dictionary values using which module and function?\n",
    "\n"
   ]
  },
  {
   "cell_type": "code",
   "execution_count": 3,
   "metadata": {},
   "outputs": [
    {
     "name": "stdout",
     "output_type": "stream",
     "text": [
      "[{'Age': 25, 'City': 'Siliguri', 'Name': 'bar'},\n",
      " {'Age': 28, 'City': 'Delhi', 'Name': 'annie'},\n",
      " {'Age': 30, 'City': 'Mumbai', 'Name': 'gargi'}]\n"
     ]
    }
   ],
   "source": [
    "# The dictionary is sorted by the keys using pprint which is a utility module that prints Python structures in a more readable & presentable way.\n",
    "\n",
    "import pprint\n",
    "h=[\n",
    "  {\"Name\":\"bar\",\"Age\":25,\"City\":\"Siliguri\"},\n",
    "  {\"Name\":\"annie\",\"Age\":28,\"City\":\"Delhi\"},\n",
    "  {\"Name\":\"gargi\",\"Age\":30,\"City\":\"Mumbai\"}\n",
    "    \n",
    "]\n",
    "\n",
    "pprint.pprint(h)"
   ]
  }
 ],
 "metadata": {
  "kernelspec": {
   "display_name": "Python 3 (ipykernel)",
   "language": "python",
   "name": "python3"
  },
  "language_info": {
   "codemirror_mode": {
    "name": "ipython",
    "version": 3
   },
   "file_extension": ".py",
   "mimetype": "text/x-python",
   "name": "python",
   "nbconvert_exporter": "python",
   "pygments_lexer": "ipython3",
   "version": "3.9.7"
  }
 },
 "nbformat": 4,
 "nbformat_minor": 4
}
